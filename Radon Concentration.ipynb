{
 "cells": [
  {
   "cell_type": "markdown",
   "metadata": {},
   "source": [
    "# Radon Concentration\n",
    "## Data Import and Clensing"
   ]
  },
  {
   "cell_type": "code",
   "execution_count": 1,
   "metadata": {
    "scrolled": true
   },
   "outputs": [],
   "source": [
    "import requests\n",
    "import pandas as pd\n",
    "url = 'https://health.canada.ca/apps/open-data/radon-concentrations/radon-concentration.csv'\n",
    "dfs = pd.read_csv(url)"
   ]
  },
  {
   "cell_type": "code",
   "execution_count": 2,
   "metadata": {},
   "outputs": [
    {
     "data": {
      "text/plain": [
       "(13815, 13)"
      ]
     },
     "execution_count": 2,
     "metadata": {},
     "output_type": "execute_result"
    }
   ],
   "source": [
    "dfs.shape"
   ]
  },
  {
   "cell_type": "code",
   "execution_count": 3,
   "metadata": {},
   "outputs": [
    {
     "data": {
      "text/html": [
       "<div>\n",
       "<style scoped>\n",
       "    .dataframe tbody tr th:only-of-type {\n",
       "        vertical-align: middle;\n",
       "    }\n",
       "\n",
       "    .dataframe tbody tr th {\n",
       "        vertical-align: top;\n",
       "    }\n",
       "\n",
       "    .dataframe thead th {\n",
       "        text-align: right;\n",
       "    }\n",
       "</style>\n",
       "<table border=\"1\" class=\"dataframe\">\n",
       "  <thead>\n",
       "    <tr style=\"text-align: right;\">\n",
       "      <th></th>\n",
       "      <th>ResultNumber</th>\n",
       "      <th>ProvinceTerritory</th>\n",
       "      <th>Health Region2007</th>\n",
       "      <th>HealthRegionCode2007</th>\n",
       "      <th>ForwardSortationAreaCodes</th>\n",
       "      <th>TestDurationInDays</th>\n",
       "      <th>AverageRadonConcentrationInBqPerM3</th>\n",
       "      <th>Unnamed: 7</th>\n",
       "      <th>Unnamed: 8</th>\n",
       "      <th>Unnamed: 9</th>\n",
       "      <th>Unnamed: 10</th>\n",
       "      <th>Unnamed: 11</th>\n",
       "      <th>Unnamed: 12</th>\n",
       "    </tr>\n",
       "  </thead>\n",
       "  <tbody>\n",
       "    <tr>\n",
       "      <th>0</th>\n",
       "      <td>1.0</td>\n",
       "      <td>NL</td>\n",
       "      <td>Eastern Regional Integrated Health Authority</td>\n",
       "      <td>1011.0</td>\n",
       "      <td>A0A</td>\n",
       "      <td>127.0</td>\n",
       "      <td>20</td>\n",
       "      <td>NaN</td>\n",
       "      <td>NaN</td>\n",
       "      <td>NaN</td>\n",
       "      <td>NaN</td>\n",
       "      <td>NaN</td>\n",
       "      <td>NaN</td>\n",
       "    </tr>\n",
       "    <tr>\n",
       "      <th>1</th>\n",
       "      <td>2.0</td>\n",
       "      <td>NL</td>\n",
       "      <td>Eastern Regional Integrated Health Authority</td>\n",
       "      <td>1011.0</td>\n",
       "      <td>A0A</td>\n",
       "      <td>108.0</td>\n",
       "      <td>36</td>\n",
       "      <td>NaN</td>\n",
       "      <td>NaN</td>\n",
       "      <td>NaN</td>\n",
       "      <td>NaN</td>\n",
       "      <td>NaN</td>\n",
       "      <td>NaN</td>\n",
       "    </tr>\n",
       "    <tr>\n",
       "      <th>2</th>\n",
       "      <td>3.0</td>\n",
       "      <td>NL</td>\n",
       "      <td>Eastern Regional Integrated Health Authority</td>\n",
       "      <td>1011.0</td>\n",
       "      <td>A0E</td>\n",
       "      <td>91.0</td>\n",
       "      <td>&lt;15</td>\n",
       "      <td>NaN</td>\n",
       "      <td>NaN</td>\n",
       "      <td>NaN</td>\n",
       "      <td>NaN</td>\n",
       "      <td>NaN</td>\n",
       "      <td>NaN</td>\n",
       "    </tr>\n",
       "    <tr>\n",
       "      <th>3</th>\n",
       "      <td>4.0</td>\n",
       "      <td>NL</td>\n",
       "      <td>Eastern Regional Integrated Health Authority</td>\n",
       "      <td>1011.0</td>\n",
       "      <td>A0A</td>\n",
       "      <td>91.0</td>\n",
       "      <td>31</td>\n",
       "      <td>NaN</td>\n",
       "      <td>NaN</td>\n",
       "      <td>NaN</td>\n",
       "      <td>NaN</td>\n",
       "      <td>NaN</td>\n",
       "      <td>NaN</td>\n",
       "    </tr>\n",
       "    <tr>\n",
       "      <th>4</th>\n",
       "      <td>5.0</td>\n",
       "      <td>NL</td>\n",
       "      <td>Eastern Regional Integrated Health Authority</td>\n",
       "      <td>1011.0</td>\n",
       "      <td>A0C</td>\n",
       "      <td>98.0</td>\n",
       "      <td>26</td>\n",
       "      <td>NaN</td>\n",
       "      <td>NaN</td>\n",
       "      <td>NaN</td>\n",
       "      <td>NaN</td>\n",
       "      <td>NaN</td>\n",
       "      <td>NaN</td>\n",
       "    </tr>\n",
       "  </tbody>\n",
       "</table>\n",
       "</div>"
      ],
      "text/plain": [
       "   ResultNumber ProvinceTerritory  \\\n",
       "0           1.0                NL   \n",
       "1           2.0                NL   \n",
       "2           3.0                NL   \n",
       "3           4.0                NL   \n",
       "4           5.0                NL   \n",
       "\n",
       "                              Health Region2007  HealthRegionCode2007  \\\n",
       "0  Eastern Regional Integrated Health Authority                1011.0   \n",
       "1  Eastern Regional Integrated Health Authority                1011.0   \n",
       "2  Eastern Regional Integrated Health Authority                1011.0   \n",
       "3  Eastern Regional Integrated Health Authority                1011.0   \n",
       "4  Eastern Regional Integrated Health Authority                1011.0   \n",
       "\n",
       "  ForwardSortationAreaCodes  TestDurationInDays  \\\n",
       "0                       A0A               127.0   \n",
       "1                       A0A               108.0   \n",
       "2                       A0E                91.0   \n",
       "3                       A0A                91.0   \n",
       "4                       A0C                98.0   \n",
       "\n",
       "  AverageRadonConcentrationInBqPerM3  Unnamed: 7  Unnamed: 8  Unnamed: 9  \\\n",
       "0                                 20         NaN         NaN         NaN   \n",
       "1                                 36         NaN         NaN         NaN   \n",
       "2                                <15         NaN         NaN         NaN   \n",
       "3                                 31         NaN         NaN         NaN   \n",
       "4                                 26         NaN         NaN         NaN   \n",
       "\n",
       "   Unnamed: 10  Unnamed: 11  Unnamed: 12  \n",
       "0          NaN          NaN          NaN  \n",
       "1          NaN          NaN          NaN  \n",
       "2          NaN          NaN          NaN  \n",
       "3          NaN          NaN          NaN  \n",
       "4          NaN          NaN          NaN  "
      ]
     },
     "execution_count": 3,
     "metadata": {},
     "output_type": "execute_result"
    }
   ],
   "source": [
    "dfs.head()"
   ]
  },
  {
   "cell_type": "code",
   "execution_count": 4,
   "metadata": {},
   "outputs": [
    {
     "data": {
      "text/html": [
       "<div>\n",
       "<style scoped>\n",
       "    .dataframe tbody tr th:only-of-type {\n",
       "        vertical-align: middle;\n",
       "    }\n",
       "\n",
       "    .dataframe tbody tr th {\n",
       "        vertical-align: top;\n",
       "    }\n",
       "\n",
       "    .dataframe thead th {\n",
       "        text-align: right;\n",
       "    }\n",
       "</style>\n",
       "<table border=\"1\" class=\"dataframe\">\n",
       "  <thead>\n",
       "    <tr style=\"text-align: right;\">\n",
       "      <th></th>\n",
       "      <th>ResultNumber</th>\n",
       "      <th>HealthRegionCode2007</th>\n",
       "      <th>TestDurationInDays</th>\n",
       "      <th>Unnamed: 7</th>\n",
       "      <th>Unnamed: 8</th>\n",
       "      <th>Unnamed: 9</th>\n",
       "      <th>Unnamed: 10</th>\n",
       "      <th>Unnamed: 11</th>\n",
       "      <th>Unnamed: 12</th>\n",
       "    </tr>\n",
       "  </thead>\n",
       "  <tbody>\n",
       "    <tr>\n",
       "      <th>count</th>\n",
       "      <td>13814.000000</td>\n",
       "      <td>13814.000000</td>\n",
       "      <td>13814.000000</td>\n",
       "      <td>0.0</td>\n",
       "      <td>0.0</td>\n",
       "      <td>0.0</td>\n",
       "      <td>0.0</td>\n",
       "      <td>0.0</td>\n",
       "      <td>0.0</td>\n",
       "    </tr>\n",
       "    <tr>\n",
       "      <th>mean</th>\n",
       "      <td>6907.500000</td>\n",
       "      <td>3717.666932</td>\n",
       "      <td>96.680469</td>\n",
       "      <td>NaN</td>\n",
       "      <td>NaN</td>\n",
       "      <td>NaN</td>\n",
       "      <td>NaN</td>\n",
       "      <td>NaN</td>\n",
       "      <td>NaN</td>\n",
       "    </tr>\n",
       "    <tr>\n",
       "      <th>std</th>\n",
       "      <td>3987.902644</td>\n",
       "      <td>1544.719745</td>\n",
       "      <td>14.612814</td>\n",
       "      <td>NaN</td>\n",
       "      <td>NaN</td>\n",
       "      <td>NaN</td>\n",
       "      <td>NaN</td>\n",
       "      <td>NaN</td>\n",
       "      <td>NaN</td>\n",
       "    </tr>\n",
       "    <tr>\n",
       "      <th>min</th>\n",
       "      <td>1.000000</td>\n",
       "      <td>1011.000000</td>\n",
       "      <td>30.000000</td>\n",
       "      <td>NaN</td>\n",
       "      <td>NaN</td>\n",
       "      <td>NaN</td>\n",
       "      <td>NaN</td>\n",
       "      <td>NaN</td>\n",
       "      <td>NaN</td>\n",
       "    </tr>\n",
       "    <tr>\n",
       "      <th>25%</th>\n",
       "      <td>3454.250000</td>\n",
       "      <td>2411.000000</td>\n",
       "      <td>91.000000</td>\n",
       "      <td>NaN</td>\n",
       "      <td>NaN</td>\n",
       "      <td>NaN</td>\n",
       "      <td>NaN</td>\n",
       "      <td>NaN</td>\n",
       "      <td>NaN</td>\n",
       "    </tr>\n",
       "    <tr>\n",
       "      <th>50%</th>\n",
       "      <td>6907.500000</td>\n",
       "      <td>3557.000000</td>\n",
       "      <td>92.000000</td>\n",
       "      <td>NaN</td>\n",
       "      <td>NaN</td>\n",
       "      <td>NaN</td>\n",
       "      <td>NaN</td>\n",
       "      <td>NaN</td>\n",
       "      <td>NaN</td>\n",
       "    </tr>\n",
       "    <tr>\n",
       "      <th>75%</th>\n",
       "      <td>10360.750000</td>\n",
       "      <td>4714.000000</td>\n",
       "      <td>98.000000</td>\n",
       "      <td>NaN</td>\n",
       "      <td>NaN</td>\n",
       "      <td>NaN</td>\n",
       "      <td>NaN</td>\n",
       "      <td>NaN</td>\n",
       "      <td>NaN</td>\n",
       "    </tr>\n",
       "    <tr>\n",
       "      <th>max</th>\n",
       "      <td>13814.000000</td>\n",
       "      <td>6201.000000</td>\n",
       "      <td>456.000000</td>\n",
       "      <td>NaN</td>\n",
       "      <td>NaN</td>\n",
       "      <td>NaN</td>\n",
       "      <td>NaN</td>\n",
       "      <td>NaN</td>\n",
       "      <td>NaN</td>\n",
       "    </tr>\n",
       "  </tbody>\n",
       "</table>\n",
       "</div>"
      ],
      "text/plain": [
       "       ResultNumber  HealthRegionCode2007  TestDurationInDays  Unnamed: 7  \\\n",
       "count  13814.000000          13814.000000        13814.000000         0.0   \n",
       "mean    6907.500000           3717.666932           96.680469         NaN   \n",
       "std     3987.902644           1544.719745           14.612814         NaN   \n",
       "min        1.000000           1011.000000           30.000000         NaN   \n",
       "25%     3454.250000           2411.000000           91.000000         NaN   \n",
       "50%     6907.500000           3557.000000           92.000000         NaN   \n",
       "75%    10360.750000           4714.000000           98.000000         NaN   \n",
       "max    13814.000000           6201.000000          456.000000         NaN   \n",
       "\n",
       "       Unnamed: 8  Unnamed: 9  Unnamed: 10  Unnamed: 11  Unnamed: 12  \n",
       "count         0.0         0.0          0.0          0.0          0.0  \n",
       "mean          NaN         NaN          NaN          NaN          NaN  \n",
       "std           NaN         NaN          NaN          NaN          NaN  \n",
       "min           NaN         NaN          NaN          NaN          NaN  \n",
       "25%           NaN         NaN          NaN          NaN          NaN  \n",
       "50%           NaN         NaN          NaN          NaN          NaN  \n",
       "75%           NaN         NaN          NaN          NaN          NaN  \n",
       "max           NaN         NaN          NaN          NaN          NaN  "
      ]
     },
     "execution_count": 4,
     "metadata": {},
     "output_type": "execute_result"
    }
   ],
   "source": [
    "dfs.describe()"
   ]
  },
  {
   "cell_type": "code",
   "execution_count": 5,
   "metadata": {},
   "outputs": [],
   "source": [
    "dfs = dfs.dropna(axis=1, how='all').drop(['ResultNumber'], axis=1)"
   ]
  },
  {
   "cell_type": "code",
   "execution_count": 6,
   "metadata": {},
   "outputs": [
    {
     "data": {
      "text/plain": [
       "ProvinceTerritory                      object\n",
       "Health Region2007                      object\n",
       "HealthRegionCode2007                  float64\n",
       "ForwardSortationAreaCodes              object\n",
       "TestDurationInDays                    float64\n",
       "AverageRadonConcentrationInBqPerM3     object\n",
       "dtype: object"
      ]
     },
     "execution_count": 6,
     "metadata": {},
     "output_type": "execute_result"
    }
   ],
   "source": [
    "dfs.dtypes"
   ]
  },
  {
   "cell_type": "code",
   "execution_count": 7,
   "metadata": {},
   "outputs": [
    {
     "data": {
      "text/plain": [
       "0"
      ]
     },
     "execution_count": 7,
     "metadata": {},
     "output_type": "execute_result"
    }
   ],
   "source": [
    "(dfs.groupby(['Health Region2007'])['HealthRegionCode2007'].unique().value_counts()>1).sum()"
   ]
  },
  {
   "cell_type": "code",
   "execution_count": 8,
   "metadata": {},
   "outputs": [
    {
     "data": {
      "text/plain": [
       "0"
      ]
     },
     "execution_count": 8,
     "metadata": {},
     "output_type": "execute_result"
    }
   ],
   "source": [
    "(dfs.groupby(['HealthRegionCode2007'])['Health Region2007'].unique().value_counts()>1).sum()"
   ]
  },
  {
   "cell_type": "markdown",
   "metadata": {},
   "source": [
    "Thus HealthReggionCode2007 corresponds to Health Region 2007, so we can drop the code column."
   ]
  },
  {
   "cell_type": "code",
   "execution_count": 9,
   "metadata": {},
   "outputs": [],
   "source": [
    "dfs=dfs.drop(['HealthRegionCode2007'], axis=1)"
   ]
  },
  {
   "cell_type": "code",
   "execution_count": 10,
   "metadata": {},
   "outputs": [
    {
     "data": {
      "text/html": [
       "<div>\n",
       "<style scoped>\n",
       "    .dataframe tbody tr th:only-of-type {\n",
       "        vertical-align: middle;\n",
       "    }\n",
       "\n",
       "    .dataframe tbody tr th {\n",
       "        vertical-align: top;\n",
       "    }\n",
       "\n",
       "    .dataframe thead th {\n",
       "        text-align: right;\n",
       "    }\n",
       "</style>\n",
       "<table border=\"1\" class=\"dataframe\">\n",
       "  <thead>\n",
       "    <tr style=\"text-align: right;\">\n",
       "      <th></th>\n",
       "      <th>ProvinceTerritory</th>\n",
       "      <th>Health Region2007</th>\n",
       "      <th>ForwardSortationAreaCodes</th>\n",
       "      <th>TestDurationInDays</th>\n",
       "      <th>AverageRadonConcentrationInBqPerM3</th>\n",
       "    </tr>\n",
       "  </thead>\n",
       "  <tbody>\n",
       "    <tr>\n",
       "      <th>13814</th>\n",
       "      <td>NaN</td>\n",
       "      <td>NaN</td>\n",
       "      <td>NaN</td>\n",
       "      <td>NaN</td>\n",
       "      <td>NaN</td>\n",
       "    </tr>\n",
       "  </tbody>\n",
       "</table>\n",
       "</div>"
      ],
      "text/plain": [
       "      ProvinceTerritory Health Region2007 ForwardSortationAreaCodes  \\\n",
       "13814               NaN               NaN                       NaN   \n",
       "\n",
       "       TestDurationInDays AverageRadonConcentrationInBqPerM3  \n",
       "13814                 NaN                                NaN  "
      ]
     },
     "execution_count": 10,
     "metadata": {},
     "output_type": "execute_result"
    }
   ],
   "source": [
    "dfs[dfs.isnull().any(axis=1)]"
   ]
  },
  {
   "cell_type": "code",
   "execution_count": 11,
   "metadata": {},
   "outputs": [],
   "source": [
    "dfs.dropna(inplace=True)"
   ]
  },
  {
   "cell_type": "code",
   "execution_count": 12,
   "metadata": {},
   "outputs": [
    {
     "data": {
      "text/plain": [
       "0"
      ]
     },
     "execution_count": 12,
     "metadata": {},
     "output_type": "execute_result"
    }
   ],
   "source": [
    "dfs.isna().sum().sum()"
   ]
  },
  {
   "cell_type": "code",
   "execution_count": 13,
   "metadata": {},
   "outputs": [
    {
     "data": {
      "text/plain": [
       "<15    2585\n",
       "Name: AverageRadonConcentrationInBqPerM3, dtype: int64"
      ]
     },
     "execution_count": 13,
     "metadata": {},
     "output_type": "execute_result"
    }
   ],
   "source": [
    "dfs[dfs['AverageRadonConcentrationInBqPerM3'].apply(lambda x: not x.isnumeric())]['AverageRadonConcentrationInBqPerM3'].value_counts()"
   ]
  },
  {
   "cell_type": "markdown",
   "metadata": {},
   "source": [
    "We impute 7.5 to entry with radon concentration less than 15."
   ]
  },
  {
   "cell_type": "code",
   "execution_count": 14,
   "metadata": {},
   "outputs": [],
   "source": [
    "dfs['AverageRadonConcentrationInBqPerM3'].replace('<15', 7.5, inplace=True)"
   ]
  },
  {
   "cell_type": "code",
   "execution_count": 15,
   "metadata": {},
   "outputs": [
    {
     "data": {
      "text/plain": [
       "ProvinceTerritory                      object\n",
       "Health Region2007                      object\n",
       "ForwardSortationAreaCodes              object\n",
       "TestDurationInDays                    float64\n",
       "AverageRadonConcentrationInBqPerM3    float64\n",
       "dtype: object"
      ]
     },
     "execution_count": 15,
     "metadata": {},
     "output_type": "execute_result"
    }
   ],
   "source": [
    "dfs['AverageRadonConcentrationInBqPerM3'] = dfs['AverageRadonConcentrationInBqPerM3'].astype('float64')\n",
    "dfs.dtypes"
   ]
  },
  {
   "cell_type": "markdown",
   "metadata": {},
   "source": [
    "## Exploratory Data Analysis"
   ]
  },
  {
   "cell_type": "code",
   "execution_count": 16,
   "metadata": {},
   "outputs": [
    {
     "data": {
      "text/html": [
       "<div>\n",
       "<style scoped>\n",
       "    .dataframe tbody tr th:only-of-type {\n",
       "        vertical-align: middle;\n",
       "    }\n",
       "\n",
       "    .dataframe tbody tr th {\n",
       "        vertical-align: top;\n",
       "    }\n",
       "\n",
       "    .dataframe thead th {\n",
       "        text-align: right;\n",
       "    }\n",
       "</style>\n",
       "<table border=\"1\" class=\"dataframe\">\n",
       "  <thead>\n",
       "    <tr style=\"text-align: right;\">\n",
       "      <th></th>\n",
       "      <th>ProvinceTerritory</th>\n",
       "      <th>Health Region2007</th>\n",
       "      <th>ForwardSortationAreaCodes</th>\n",
       "      <th>TestDurationInDays</th>\n",
       "      <th>AverageRadonConcentrationInBqPerM3</th>\n",
       "    </tr>\n",
       "  </thead>\n",
       "  <tbody>\n",
       "    <tr>\n",
       "      <th>0</th>\n",
       "      <td>NL</td>\n",
       "      <td>Eastern Regional Integrated Health Authority</td>\n",
       "      <td>A0A</td>\n",
       "      <td>127.0</td>\n",
       "      <td>20.0</td>\n",
       "    </tr>\n",
       "    <tr>\n",
       "      <th>1</th>\n",
       "      <td>NL</td>\n",
       "      <td>Eastern Regional Integrated Health Authority</td>\n",
       "      <td>A0A</td>\n",
       "      <td>108.0</td>\n",
       "      <td>36.0</td>\n",
       "    </tr>\n",
       "    <tr>\n",
       "      <th>2</th>\n",
       "      <td>NL</td>\n",
       "      <td>Eastern Regional Integrated Health Authority</td>\n",
       "      <td>A0E</td>\n",
       "      <td>91.0</td>\n",
       "      <td>7.5</td>\n",
       "    </tr>\n",
       "    <tr>\n",
       "      <th>3</th>\n",
       "      <td>NL</td>\n",
       "      <td>Eastern Regional Integrated Health Authority</td>\n",
       "      <td>A0A</td>\n",
       "      <td>91.0</td>\n",
       "      <td>31.0</td>\n",
       "    </tr>\n",
       "    <tr>\n",
       "      <th>4</th>\n",
       "      <td>NL</td>\n",
       "      <td>Eastern Regional Integrated Health Authority</td>\n",
       "      <td>A0C</td>\n",
       "      <td>98.0</td>\n",
       "      <td>26.0</td>\n",
       "    </tr>\n",
       "  </tbody>\n",
       "</table>\n",
       "</div>"
      ],
      "text/plain": [
       "  ProvinceTerritory                             Health Region2007  \\\n",
       "0                NL  Eastern Regional Integrated Health Authority   \n",
       "1                NL  Eastern Regional Integrated Health Authority   \n",
       "2                NL  Eastern Regional Integrated Health Authority   \n",
       "3                NL  Eastern Regional Integrated Health Authority   \n",
       "4                NL  Eastern Regional Integrated Health Authority   \n",
       "\n",
       "  ForwardSortationAreaCodes  TestDurationInDays  \\\n",
       "0                       A0A               127.0   \n",
       "1                       A0A               108.0   \n",
       "2                       A0E                91.0   \n",
       "3                       A0A                91.0   \n",
       "4                       A0C                98.0   \n",
       "\n",
       "   AverageRadonConcentrationInBqPerM3  \n",
       "0                                20.0  \n",
       "1                                36.0  \n",
       "2                                 7.5  \n",
       "3                                31.0  \n",
       "4                                26.0  "
      ]
     },
     "execution_count": 16,
     "metadata": {},
     "output_type": "execute_result"
    }
   ],
   "source": [
    "dfs.head()"
   ]
  },
  {
   "cell_type": "code",
   "execution_count": 17,
   "metadata": {},
   "outputs": [
    {
     "data": {
      "text/html": [
       "<div>\n",
       "<style scoped>\n",
       "    .dataframe tbody tr th:only-of-type {\n",
       "        vertical-align: middle;\n",
       "    }\n",
       "\n",
       "    .dataframe tbody tr th {\n",
       "        vertical-align: top;\n",
       "    }\n",
       "\n",
       "    .dataframe thead th {\n",
       "        text-align: right;\n",
       "    }\n",
       "</style>\n",
       "<table border=\"1\" class=\"dataframe\">\n",
       "  <thead>\n",
       "    <tr style=\"text-align: right;\">\n",
       "      <th></th>\n",
       "      <th>TestDurationInDays</th>\n",
       "      <th>AverageRadonConcentrationInBqPerM3</th>\n",
       "    </tr>\n",
       "  </thead>\n",
       "  <tbody>\n",
       "    <tr>\n",
       "      <th>count</th>\n",
       "      <td>13814.000000</td>\n",
       "      <td>13814.000000</td>\n",
       "    </tr>\n",
       "    <tr>\n",
       "      <th>mean</th>\n",
       "      <td>96.680469</td>\n",
       "      <td>96.434451</td>\n",
       "    </tr>\n",
       "    <tr>\n",
       "      <th>std</th>\n",
       "      <td>14.612814</td>\n",
       "      <td>170.463366</td>\n",
       "    </tr>\n",
       "    <tr>\n",
       "      <th>min</th>\n",
       "      <td>30.000000</td>\n",
       "      <td>7.500000</td>\n",
       "    </tr>\n",
       "    <tr>\n",
       "      <th>25%</th>\n",
       "      <td>91.000000</td>\n",
       "      <td>19.000000</td>\n",
       "    </tr>\n",
       "    <tr>\n",
       "      <th>50%</th>\n",
       "      <td>92.000000</td>\n",
       "      <td>47.000000</td>\n",
       "    </tr>\n",
       "    <tr>\n",
       "      <th>75%</th>\n",
       "      <td>98.000000</td>\n",
       "      <td>114.000000</td>\n",
       "    </tr>\n",
       "    <tr>\n",
       "      <th>max</th>\n",
       "      <td>456.000000</td>\n",
       "      <td>5657.000000</td>\n",
       "    </tr>\n",
       "  </tbody>\n",
       "</table>\n",
       "</div>"
      ],
      "text/plain": [
       "       TestDurationInDays  AverageRadonConcentrationInBqPerM3\n",
       "count        13814.000000                        13814.000000\n",
       "mean            96.680469                           96.434451\n",
       "std             14.612814                          170.463366\n",
       "min             30.000000                            7.500000\n",
       "25%             91.000000                           19.000000\n",
       "50%             92.000000                           47.000000\n",
       "75%             98.000000                          114.000000\n",
       "max            456.000000                         5657.000000"
      ]
     },
     "execution_count": 17,
     "metadata": {},
     "output_type": "execute_result"
    }
   ],
   "source": [
    "dfs.describe()"
   ]
  },
  {
   "cell_type": "code",
   "execution_count": 18,
   "metadata": {},
   "outputs": [
    {
     "data": {
      "text/plain": [
       "Text(0.5,1,'Observation Frequency in Each Province')"
      ]
     },
     "execution_count": 18,
     "metadata": {},
     "output_type": "execute_result"
    }
   ],
   "source": [
    "import matplotlib.pyplot as plt\n",
    "province = dfs['ProvinceTerritory'].value_counts()\n",
    "plt.bar(province.index, province.values)\n",
    "plt.title(\"Observation Frequency in Each Province\")"
   ]
  },
  {
   "cell_type": "code",
   "execution_count": 19,
   "metadata": {},
   "outputs": [
    {
     "data": {
      "text/plain": [
       "(array([1.400e+01, 1.400e+02, 8.241e+03, 4.471e+03, 6.820e+02, 1.600e+02,\n",
       "        5.400e+01, 2.500e+01, 1.000e+01, 5.000e+00, 0.000e+00, 3.000e+00,\n",
       "        4.000e+00, 0.000e+00, 0.000e+00, 1.000e+00, 3.000e+00, 0.000e+00,\n",
       "        0.000e+00, 1.000e+00]),\n",
       " array([ 30. ,  51.3,  72.6,  93.9, 115.2, 136.5, 157.8, 179.1, 200.4,\n",
       "        221.7, 243. , 264.3, 285.6, 306.9, 328.2, 349.5, 370.8, 392.1,\n",
       "        413.4, 434.7, 456. ]),\n",
       " <a list of 20 Patch objects>)"
      ]
     },
     "execution_count": 19,
     "metadata": {},
     "output_type": "execute_result"
    },
    {
     "data": {
      "image/png": "[encoded data removed]",
      "text/plain": [
       "<Figure size 432x288 with 1 Axes>"
      ]
     },
     "metadata": {
      "needs_background": "light"
     },
     "output_type": "display_data"
    }
   ],
   "source": [
    "plt.hist(dfs['TestDurationInDays'], bins=20)"
   ]
  },
  {
   "cell_type": "code",
   "execution_count": 20,
   "metadata": {},
   "outputs": [
    {
     "data": {
      "text/plain": [
       "(array([24., 27., 33., 25.,  7.,  3.,  0.,  0.,  0.,  2.]),\n",
       " array([ 93.36792453,  94.83113208,  96.29433962,  97.75754717,\n",
       "         99.22075472, 100.68396226, 102.14716981, 103.61037736,\n",
       "        105.07358491, 106.53679245, 108.        ]),\n",
       " <a list of 10 Patch objects>)"
      ]
     },
     "execution_count": 20,
     "metadata": {},
     "output_type": "execute_result"
    },
    {
     "data": {
      "image/png": "[encoded data removed]",
      "text/plain": [
       "<Figure size 432x288 with 1 Axes>"
      ]
     },
     "metadata": {
      "needs_background": "light"
     },
     "output_type": "display_data"
    }
   ],
   "source": [
    "average_days = dfs.groupby(['Health Region2007'])['TestDurationInDays'].mean()\n",
    "plt.hist(average_days)"
   ]
  },
  {
   "cell_type": "code",
   "execution_count": 21,
   "metadata": {},
   "outputs": [
    {
     "data": {
      "text/plain": [
       "<BarContainer object of 13 artists>"
      ]
     },
     "execution_count": 21,
     "metadata": {},
     "output_type": "execute_result"
    },
    {
     "data": {
      "image/png": "[encoded data removed]",
      "text/plain": [
       "<Figure size 432x288 with 1 Axes>"
      ]
     },
     "metadata": {
      "needs_background": "light"
     },
     "output_type": "display_data"
    }
   ],
   "source": [
    "average_concentration = dfs.groupby(['ProvinceTerritory'])['AverageRadonConcentrationInBqPerM3'].mean()\n",
    "std_concentration =  dfs.groupby(['ProvinceTerritory'])['AverageRadonConcentrationInBqPerM3'].std()\n",
    "plt.bar(average_concentration.index, average_concentration.values, yerr=std_concentration)"
   ]
  }
 ],
 "metadata": {
  "kernelspec": {
   "display_name": "Python 3",
   "language": "python",
   "name": "python3"
  },
  "language_info": {
   "codemirror_mode": {
    "name": "ipython",
    "version": 3
   },
   "file_extension": ".py",
   "mimetype": "text/x-python",
   "name": "python",
   "nbconvert_exporter": "python",
   "pygments_lexer": "ipython3",
   "version": "3.6.5"
  }
 },
 "nbformat": 4,
 "nbformat_minor": 2
}
